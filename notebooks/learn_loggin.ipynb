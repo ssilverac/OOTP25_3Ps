{
 "cells": [
  {
   "cell_type": "code",
   "execution_count": 1,
   "id": "a218a6d2-c857-4d63-824b-803773075e67",
   "metadata": {},
   "outputs": [],
   "source": [
    "import logging"
   ]
  },
  {
   "cell_type": "code",
   "execution_count": 4,
   "id": "fa79f616-dc76-45e2-9956-d6701cfeb945",
   "metadata": {},
   "outputs": [],
   "source": [
    "logging.basicConfig(filename='test_log.log', level=logging.INFO)\n",
    "logging.debug('This will print on log file')\n",
    "logging.info('This is also going to print')\n",
    "logging.warning('PRINT RED')\n",
    "\n"
   ]
  },
  {
   "cell_type": "code",
   "execution_count": null,
   "id": "33e220e4-ef3e-44d9-ade7-2464bf9abf74",
   "metadata": {},
   "outputs": [],
   "source": []
  }
 ],
 "metadata": {
  "kernelspec": {
   "display_name": "Python 3 (ipykernel)",
   "language": "python",
   "name": "python3"
  },
  "language_info": {
   "codemirror_mode": {
    "name": "ipython",
    "version": 3
   },
   "file_extension": ".py",
   "mimetype": "text/x-python",
   "name": "python",
   "nbconvert_exporter": "python",
   "pygments_lexer": "ipython3",
   "version": "3.11.1"
  }
 },
 "nbformat": 4,
 "nbformat_minor": 5
}
