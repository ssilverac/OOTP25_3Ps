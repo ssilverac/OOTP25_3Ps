{
 "cells": [
  {
   "cell_type": "code",
   "execution_count": 1,
   "id": "40ac72b5-014a-40fe-9835-68aec2cf4115",
   "metadata": {},
   "outputs": [
    {
     "name": "stdout",
     "output_type": "stream",
     "text": [
      "C:\\Users\\sebas\\OneDrive\\Python\\Projects\\OOTP25_Project\\notebooks\n"
     ]
    }
   ],
   "source": [
    "import pandas as pd\n",
    "import os\n",
    "print(os.getcwd())"
   ]
  },
  {
   "cell_type": "code",
   "execution_count": 30,
   "id": "2470e648-142d-4bb8-b0e6-e32af8bf4b5b",
   "metadata": {},
   "outputs": [],
   "source": [
    "TXT_DIR = '../data/raw/2025_stats/league_stats'"
   ]
  },
  {
   "cell_type": "code",
   "execution_count": 31,
   "id": "7256a236-4b87-4a5d-8a99-ae60b86bc672",
   "metadata": {},
   "outputs": [],
   "source": [
    "jn mmmmmmmmmmmmp"
   ]
  },
  {
   "cell_type": "code",
   "execution_count": 32,
   "id": "e32c8bca-d068-4c49-a0ce-a75c9b942840",
   "metadata": {},
   "outputs": [],
   "source": [
    "file_path = os.path.join(TXT_DIR, txt_file)\n"
   ]
  },
  {
   "cell_type": "code",
   "execution_count": 12,
   "id": "7687239e-d11c-4f90-9012-b986788d91e4",
   "metadata": {},
   "outputs": [],
   "source": [
    "#this reads the file line by line.\n",
    "with open(file_path, 'r') as file:\n",
    "    lines = file.readlines() #could read up on these methods"
   ]
  },
  {
   "cell_type": "code",
   "execution_count": 16,
   "id": "e986f95e-129c-4c52-8928-fca450510938",
   "metadata": {},
   "outputs": [
    {
     "name": "stdout",
     "output_type": "stream",
     "text": [
      "// List of Teams and their ID's:\n",
      "//3 => ID of Montreal Defenders\n",
      "//15 => ID of Windsor Bootlegers\n",
      "//13 => ID of Toronto Raiders\n",
      "//11 => ID of Vancouver Dawgs\n",
      "//10 => ID of Calgary Stampede\n",
      "//2 => ID of Chicago Swarm\n",
      "//5 => ID of Texas Norsemen\n",
      "//12 => ID of San Antonio Sycamores\n",
      "//4 => ID of Phoenix Hops\n",
      "//8 => ID of New York River Cats\n",
      "//14 => ID of MÃ©rida River Kings\n",
      "//7 => ID of Guadalajara A's\n",
      "//6 => ID of Tlalnepantla Shamrocks\n",
      "//1 => ID of Mexico City Barbarians\n",
      "//9 => ID of Nezahualcoyotl Deputies\n",
      "//21 => ID of Ottawa Counts\n",
      "//19 => ID of Mississauga North Stars\n",
      "//16 => ID of St. Johns Sun Cats\n",
      "//28 => ID of Quebec City Lancers\n",
      "//25 => ID of Victoria Sunrays\n",
      "//20 => ID of Colorado Commandos\n",
      "//23 => ID of Fort Worth Ocelots\n",
      "//30 => ID of Jacksonville Thunderbirds\n",
      "//18 => ID of Austin Chippers\n",
      "//27 => ID of Atlanta Slammers\n",
      "//22 => ID of San Luis PotosÃ­ Spectres\n",
      "//17 => ID of LeÃ³n Majestics\n",
      "//24 => ID of Naucalpan Mallards\n",
      "//29 => ID of Puebla Skyhawks\n",
      "//26 => ID of Acapulco Cubs\n",
      "//\n",
      "//\n",
      "//id, del, team_id, Team Name, League Name, LastName, FirstName, NickName, UniformNumber, DayOB, MonthOB, YearOB, NationalityID, Nation, CityID, City, facial_type, Height (cm), Weight (kg), Bats, Throws, Position, ML Service, 40 man roster service, pro years, options used, Contact vL, Gap vL, Power vL, Eye vL, Avoid K vL, BABIP vL, Contract Vr, Gap Vr, Power vR, Eye vR, Ks vR, BABIP vR, Contact Pot, Gap Pot, Power Pot, Eye Pot, Ks Pot, BABIP Pot, HBP, GB Batter type, FB Batter type, speed, steal rate, steal, running, sac bunt, bunt hit,Move vL, Control vL, Movement vR, Control vR, Move Pot, Control Pot, HBP, WP, Balk, Stamina, Hold, GB%, Velocity, ArmSlot, Infield Range, Infield Error, Infield Arm, DP, CatcherAbil, Catcher Arm, OF Range, OF Error, OF Arm, PExp, CExp, 1bExp, 2bExp, 3bExp, ssExp, LFExp, CFExp, RFExp, use expected, expected level, expected ab, expected avg, expected 2b, expected 3b, expected hr, expected bb, expected k, expected hbp, contract y1, contract y2, contract y3, contract y4, contract y5, contract y6, contract y7, contract y8, contract y9, contract y10, contract current year (0 = first year), extension y1, extension y2, extension y3, extension y4, extension y5, extension y6, extension y7, extension y8, extension y9, extension y10, greed, loyalty, play_for_winner, work_ethic, intelligence, leader ability, Stuff Overall, Stuff R/L split, Stuff Pot., Fastball (scale: 0-5), Slider, Curveball, Changeup, Cutter, Sinker, Splitter, Forkball, Screwball, Circlechange, Knucklecurve, Knuckleball, Fastball Pot.(scale: 0-5), Slider Pot., Curveball Pot., Changeup Pot., Cutter Pot., Sinker Pot., Splitter Pot., Forkball Pot., Screwball Pot., Circlechange Pot., Knucklecurve Pot., Knuckleball Pot., Hitter 3B/2B ratio, pbabip, lahman_id, bbref_id, bbrefminors_id, twitter_handle, Catcher Framing\n",
      "//NOTE: Player and team names are purely cosmetic and will not be used when importing rosters from this file!\n",
      "// Montreal Defenders, ID = 3\n",
      "// Windsor Bootlegers, ID = 15\n",
      "// Toronto Raiders, ID = 13\n",
      "// Vancouver Dawgs, ID = 11\n",
      "// Calgary Stampede, ID = 10\n",
      "// Chicago Swarm, ID = 2\n",
      "// Texas Norsemen, ID = 5\n",
      "// San Antonio Sycamores, ID = 12\n",
      "// Phoenix Hops, ID = 4\n",
      "// New York River Cats, ID = 8\n",
      "// MÃ©rida River Kings, ID = 14\n",
      "// Guadalajara A's, ID = 7\n",
      "// Tlalnepantla Shamrocks, ID = 6\n",
      "// Mexico City Barbarians, ID = 1\n",
      "// Nezahualcoyotl Deputies, ID = 9\n",
      "// Ottawa Counts, ID = 21\n",
      "// Mississauga North Stars, ID = 19\n",
      "// St. Johns Sun Cats, ID = 16\n",
      "// Quebec City Lancers, ID = 28\n",
      "// Victoria Sunrays, ID = 25\n",
      "// Colorado Commandos, ID = 20\n",
      "// Fort Worth Ocelots, ID = 23\n",
      "// Jacksonville Thunderbirds, ID = 30\n",
      "// Austin Chippers, ID = 18\n",
      "// Atlanta Slammers, ID = 27\n",
      "// San Luis PotosÃ­ Spectres, ID = 22\n",
      "// LeÃ³n Majestics, ID = 17\n",
      "// Naucalpan Mallards, ID = 24\n",
      "// Puebla Skyhawks, ID = 29\n",
      "// Acapulco Cubs, ID = 26\n",
      "// FREE AGENTS\n"
     ]
    }
   ],
   "source": [
    "master_team_list = []\n",
    "for line in lines:\n",
    "    line = line.strip() #ask about this line\n",
    "    if not line:\n",
    "        continue\n",
    "    if line.startswith('//'):\n",
    "        print(line)\n",
    "        "
   ]
  },
  {
   "cell_type": "code",
   "execution_count": 2,
   "id": "516ad8be-dbb1-45e3-b580-deeb767ca8f5",
   "metadata": {},
   "outputs": [
    {
     "data": {
      "text/plain": [
       "([], [], [])"
      ]
     },
     "execution_count": 2,
     "metadata": {},
     "output_type": "execute_result"
    }
   ],
   "source": [
    "TXT_DIR = '../data/raw/2025_stats/league_stats'\n",
    "txt_file = 'abl_rosters.txt'\n",
    "file_path = os.path.join(TXT_DIR, txt_file)\n",
    "\n",
    "def parse_file (filename):\n",
    "    with open(filename, 'r') as file:\n",
    "        team_section = False\n",
    "        player_section = False\n",
    "        header_section = False\n",
    "        team_data = []\n",
    "        player_data = []\n",
    "        headers = []\n",
    "\n",
    "        for line in file:\n",
    "            line = line.strip()\n",
    "            if line.startswith('// List of teams'):\n",
    "                team_section = True\n",
    "                continue\n",
    "            elif line.startswith('NOTE:'):\n",
    "                player_section = True\n",
    "                team_section = False\n",
    "                continue\n",
    "\n",
    "            elif line =='':\n",
    "                if team_section:\n",
    "                    team_section = False\n",
    "                    header_section = True\n",
    "                continue\n",
    "            elif header_section:\n",
    "                headers = line.split(',')\n",
    "                header_section = False\n",
    "                continue\n",
    "            if team_section:\n",
    "                team_data.append(line)\n",
    "            elif player_section:\n",
    "                player_data.append(line)\n",
    "            elif header_section:\n",
    "                headers.append(line)\n",
    "        return team_data, player_data, headers\n",
    "parse_file(file_path)"
   ]
  },
  {
   "cell_type": "code",
   "execution_count": 3,
   "id": "47b4f6a9-8bbd-45a9-b9ee-bdb970dd7864",
   "metadata": {},
   "outputs": [],
   "source": [
    "team_data, player_data, headers = parse_file(os.path.join(TXT_DIR, txt_file))"
   ]
  },
  {
   "cell_type": "code",
   "execution_count": 35,
   "id": "ef165493-62a4-4d26-aae2-e5fd504e5ab7",
   "metadata": {},
   "outputs": [
    {
     "name": "stdout",
     "output_type": "stream",
     "text": [
      "[]\n"
     ]
    }
   ],
   "source": [
    "print(team_data)"
   ]
  },
  {
   "cell_type": "code",
   "execution_count": null,
   "id": "4cf3152d-78d8-451c-9246-be371f23c21b",
   "metadata": {},
   "outputs": [],
   "source": []
  }
 ],
 "metadata": {
  "kernelspec": {
   "display_name": "Python 3 (ipykernel)",
   "language": "python",
   "name": "python3"
  },
  "language_info": {
   "codemirror_mode": {
    "name": "ipython",
    "version": 3
   },
   "file_extension": ".py",
   "mimetype": "text/x-python",
   "name": "python",
   "nbconvert_exporter": "python",
   "pygments_lexer": "ipython3",
   "version": "3.11.1"
  }
 },
 "nbformat": 4,
 "nbformat_minor": 5
}
